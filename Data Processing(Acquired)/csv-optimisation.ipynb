{
 "cells": [
  {
   "cell_type": "code",
   "id": "initial_id",
   "metadata": {
    "collapsed": true,
    "ExecuteTime": {
     "end_time": "2025-06-26T12:53:12.560733Z",
     "start_time": "2025-06-26T12:53:12.038976Z"
    }
   },
   "source": [
    "# imports\n",
    "import pandas as pd\n",
    "from pathlib import Path\n",
    "import re\n",
    "import matplotlib.pyplot as plt\n",
    "import matplotlib.patches as mpatches"
   ],
   "outputs": [],
   "execution_count": 1
  },
  {
   "metadata": {
    "ExecuteTime": {
     "end_time": "2025-06-26T12:53:12.636502Z",
     "start_time": "2025-06-26T12:53:12.634540Z"
    }
   },
   "cell_type": "code",
   "source": [
    "# specifying directories\n",
    "subject_number = 10\n",
    "\n",
    "if subject_number >= 10:\n",
    "    subject_name =  str(f\"Subject_{subject_number}\")\n",
    "else:\n",
    "    subject_name = str(f\"Subject_0{subject_number}\")\n",
    "\n",
    "DATA_DIR = Path(f\"./experiment_data/{subject_name}\")\n",
    "IN_FILE  = DATA_DIR / f\"{subject_name}-data.csv\"\n",
    "OUT_FILE = DATA_DIR / f\"optimised-{subject_name}-data.csv\"\n",
    "\n",
    "\n",
    "pd.set_option(\"display.max_columns\", None)"
   ],
   "id": "9694b6491504adb",
   "outputs": [],
   "execution_count": 2
  },
  {
   "metadata": {
    "ExecuteTime": {
     "end_time": "2025-06-26T12:53:12.646789Z",
     "start_time": "2025-06-26T12:53:12.645052Z"
    }
   },
   "cell_type": "code",
   "source": [
    "# sanity check for paths\n",
    "print(DATA_DIR)\n",
    "print(IN_FILE)\n",
    "print(OUT_FILE)"
   ],
   "id": "f1343a1930cc93d5",
   "outputs": [
    {
     "name": "stdout",
     "output_type": "stream",
     "text": [
      "experiment_data/Subject_10\n",
      "experiment_data/Subject_10/Subject_10-data.csv\n",
      "experiment_data/Subject_10/optimised-Subject_10-data.csv\n"
     ]
    }
   ],
   "execution_count": 3
  },
  {
   "metadata": {
    "ExecuteTime": {
     "end_time": "2025-06-26T12:53:12.672951Z",
     "start_time": "2025-06-26T12:53:12.661328Z"
    }
   },
   "cell_type": "code",
   "source": [
    "# raw data loading\n",
    "raw = pd.read_csv(IN_FILE)\n",
    "print(f\"Raw shape : {raw.shape}\")\n",
    "raw.head()"
   ],
   "id": "f63e8576b567e63c",
   "outputs": [
    {
     "name": "stdout",
     "output_type": "stream",
     "text": [
      "Raw shape : (110, 8)\n"
     ]
    },
    {
     "data": {
      "text/plain": [
       "   Section  Question Correct Answer Frustration  \\\n",
       "0      1.0       1.0       C      C       False   \n",
       "1      1.0       2.0       A      A       False   \n",
       "2      1.0       3.0       B      B       False   \n",
       "3      1.0       4.0       B      B       False   \n",
       "4      1.0       5.0       B      B       False   \n",
       "\n",
       "                       abs_time_iso  rel_time_s           Label  \n",
       "0  1970-01-11T22:32:26.430844+00:00   31.407486  QuizSubmit_1_1  \n",
       "1  1970-01-11T22:32:33.709721+00:00   38.686363  QuizSubmit_1_2  \n",
       "2  1970-01-11T22:32:38.358214+00:00   43.334855  QuizSubmit_1_3  \n",
       "3  1970-01-11T22:32:43.806386+00:00   48.783028  QuizSubmit_1_4  \n",
       "4  1970-01-11T22:32:49.028769+00:00   54.005411  QuizSubmit_1_5  "
      ],
      "text/html": [
       "<div>\n",
       "<style scoped>\n",
       "    .dataframe tbody tr th:only-of-type {\n",
       "        vertical-align: middle;\n",
       "    }\n",
       "\n",
       "    .dataframe tbody tr th {\n",
       "        vertical-align: top;\n",
       "    }\n",
       "\n",
       "    .dataframe thead th {\n",
       "        text-align: right;\n",
       "    }\n",
       "</style>\n",
       "<table border=\"1\" class=\"dataframe\">\n",
       "  <thead>\n",
       "    <tr style=\"text-align: right;\">\n",
       "      <th></th>\n",
       "      <th>Section</th>\n",
       "      <th>Question</th>\n",
       "      <th>Correct</th>\n",
       "      <th>Answer</th>\n",
       "      <th>Frustration</th>\n",
       "      <th>abs_time_iso</th>\n",
       "      <th>rel_time_s</th>\n",
       "      <th>Label</th>\n",
       "    </tr>\n",
       "  </thead>\n",
       "  <tbody>\n",
       "    <tr>\n",
       "      <th>0</th>\n",
       "      <td>1.0</td>\n",
       "      <td>1.0</td>\n",
       "      <td>C</td>\n",
       "      <td>C</td>\n",
       "      <td>False</td>\n",
       "      <td>1970-01-11T22:32:26.430844+00:00</td>\n",
       "      <td>31.407486</td>\n",
       "      <td>QuizSubmit_1_1</td>\n",
       "    </tr>\n",
       "    <tr>\n",
       "      <th>1</th>\n",
       "      <td>1.0</td>\n",
       "      <td>2.0</td>\n",
       "      <td>A</td>\n",
       "      <td>A</td>\n",
       "      <td>False</td>\n",
       "      <td>1970-01-11T22:32:33.709721+00:00</td>\n",
       "      <td>38.686363</td>\n",
       "      <td>QuizSubmit_1_2</td>\n",
       "    </tr>\n",
       "    <tr>\n",
       "      <th>2</th>\n",
       "      <td>1.0</td>\n",
       "      <td>3.0</td>\n",
       "      <td>B</td>\n",
       "      <td>B</td>\n",
       "      <td>False</td>\n",
       "      <td>1970-01-11T22:32:38.358214+00:00</td>\n",
       "      <td>43.334855</td>\n",
       "      <td>QuizSubmit_1_3</td>\n",
       "    </tr>\n",
       "    <tr>\n",
       "      <th>3</th>\n",
       "      <td>1.0</td>\n",
       "      <td>4.0</td>\n",
       "      <td>B</td>\n",
       "      <td>B</td>\n",
       "      <td>False</td>\n",
       "      <td>1970-01-11T22:32:43.806386+00:00</td>\n",
       "      <td>48.783028</td>\n",
       "      <td>QuizSubmit_1_4</td>\n",
       "    </tr>\n",
       "    <tr>\n",
       "      <th>4</th>\n",
       "      <td>1.0</td>\n",
       "      <td>5.0</td>\n",
       "      <td>B</td>\n",
       "      <td>B</td>\n",
       "      <td>False</td>\n",
       "      <td>1970-01-11T22:32:49.028769+00:00</td>\n",
       "      <td>54.005411</td>\n",
       "      <td>QuizSubmit_1_5</td>\n",
       "    </tr>\n",
       "  </tbody>\n",
       "</table>\n",
       "</div>"
      ]
     },
     "execution_count": 4,
     "metadata": {},
     "output_type": "execute_result"
    }
   ],
   "execution_count": 4
  },
  {
   "metadata": {
    "ExecuteTime": {
     "end_time": "2025-06-26T12:53:12.705282Z",
     "start_time": "2025-06-26T12:53:12.699512Z"
    }
   },
   "cell_type": "code",
   "source": [
    "# sorting the data chronologically\n",
    "\n",
    "df = (\n",
    "    raw\n",
    "    .sort_values(\"rel_time_s\", ascending=True)\n",
    "    .reset_index(drop=True)\n",
    ")\n",
    "\n",
    "print(f\"Chronologically sorted shape : {df.shape}\")\n",
    "df"
   ],
   "id": "526cd6b58a18f188",
   "outputs": [
    {
     "name": "stdout",
     "output_type": "stream",
     "text": [
      "Chronologically sorted shape : (110, 8)\n"
     ]
    },
    {
     "data": {
      "text/plain": [
       "     Section  Question Correct Answer Frustration  \\\n",
       "0        NaN       NaN     NaN    NaN         NaN   \n",
       "1        NaN       NaN     NaN    NaN         NaN   \n",
       "2        1.0       1.0       C      C       False   \n",
       "3        NaN       NaN     NaN    NaN         NaN   \n",
       "4        1.0       2.0       A      A       False   \n",
       "..       ...       ...     ...    ...         ...   \n",
       "105     10.0       3.0       B      B       False   \n",
       "106      NaN       NaN     NaN    NaN         NaN   \n",
       "107     10.0       4.0       B      B       False   \n",
       "108      NaN       NaN     NaN    NaN         NaN   \n",
       "109     10.0       5.0       B      B       False   \n",
       "\n",
       "                         abs_time_iso   rel_time_s            Label  \n",
       "0    1970-01-11T22:31:55.025852+00:00     0.002494     ReadingStart  \n",
       "1    1970-01-11T22:32:21.134998+00:00    26.111640    QuestionStart  \n",
       "2    1970-01-11T22:32:26.430844+00:00    31.407486   QuizSubmit_1_1  \n",
       "3    1970-01-11T22:32:26.430945+00:00    31.407587    QuestionStart  \n",
       "4    1970-01-11T22:32:33.709721+00:00    38.686363   QuizSubmit_1_2  \n",
       "..                                ...          ...              ...  \n",
       "105  1970-01-11T22:48:36.965241+00:00  1001.941883  QuizSubmit_10_3  \n",
       "106  1970-01-11T22:48:36.965335+00:00  1001.941977    QuestionStart  \n",
       "107  1970-01-11T22:48:40.661816+00:00  1005.638457  QuizSubmit_10_4  \n",
       "108  1970-01-11T22:48:40.661942+00:00  1005.638584    QuestionStart  \n",
       "109  1970-01-11T22:48:46.916826+00:00  1011.893468  QuizSubmit_10_5  \n",
       "\n",
       "[110 rows x 8 columns]"
      ],
      "text/html": [
       "<div>\n",
       "<style scoped>\n",
       "    .dataframe tbody tr th:only-of-type {\n",
       "        vertical-align: middle;\n",
       "    }\n",
       "\n",
       "    .dataframe tbody tr th {\n",
       "        vertical-align: top;\n",
       "    }\n",
       "\n",
       "    .dataframe thead th {\n",
       "        text-align: right;\n",
       "    }\n",
       "</style>\n",
       "<table border=\"1\" class=\"dataframe\">\n",
       "  <thead>\n",
       "    <tr style=\"text-align: right;\">\n",
       "      <th></th>\n",
       "      <th>Section</th>\n",
       "      <th>Question</th>\n",
       "      <th>Correct</th>\n",
       "      <th>Answer</th>\n",
       "      <th>Frustration</th>\n",
       "      <th>abs_time_iso</th>\n",
       "      <th>rel_time_s</th>\n",
       "      <th>Label</th>\n",
       "    </tr>\n",
       "  </thead>\n",
       "  <tbody>\n",
       "    <tr>\n",
       "      <th>0</th>\n",
       "      <td>NaN</td>\n",
       "      <td>NaN</td>\n",
       "      <td>NaN</td>\n",
       "      <td>NaN</td>\n",
       "      <td>NaN</td>\n",
       "      <td>1970-01-11T22:31:55.025852+00:00</td>\n",
       "      <td>0.002494</td>\n",
       "      <td>ReadingStart</td>\n",
       "    </tr>\n",
       "    <tr>\n",
       "      <th>1</th>\n",
       "      <td>NaN</td>\n",
       "      <td>NaN</td>\n",
       "      <td>NaN</td>\n",
       "      <td>NaN</td>\n",
       "      <td>NaN</td>\n",
       "      <td>1970-01-11T22:32:21.134998+00:00</td>\n",
       "      <td>26.111640</td>\n",
       "      <td>QuestionStart</td>\n",
       "    </tr>\n",
       "    <tr>\n",
       "      <th>2</th>\n",
       "      <td>1.0</td>\n",
       "      <td>1.0</td>\n",
       "      <td>C</td>\n",
       "      <td>C</td>\n",
       "      <td>False</td>\n",
       "      <td>1970-01-11T22:32:26.430844+00:00</td>\n",
       "      <td>31.407486</td>\n",
       "      <td>QuizSubmit_1_1</td>\n",
       "    </tr>\n",
       "    <tr>\n",
       "      <th>3</th>\n",
       "      <td>NaN</td>\n",
       "      <td>NaN</td>\n",
       "      <td>NaN</td>\n",
       "      <td>NaN</td>\n",
       "      <td>NaN</td>\n",
       "      <td>1970-01-11T22:32:26.430945+00:00</td>\n",
       "      <td>31.407587</td>\n",
       "      <td>QuestionStart</td>\n",
       "    </tr>\n",
       "    <tr>\n",
       "      <th>4</th>\n",
       "      <td>1.0</td>\n",
       "      <td>2.0</td>\n",
       "      <td>A</td>\n",
       "      <td>A</td>\n",
       "      <td>False</td>\n",
       "      <td>1970-01-11T22:32:33.709721+00:00</td>\n",
       "      <td>38.686363</td>\n",
       "      <td>QuizSubmit_1_2</td>\n",
       "    </tr>\n",
       "    <tr>\n",
       "      <th>...</th>\n",
       "      <td>...</td>\n",
       "      <td>...</td>\n",
       "      <td>...</td>\n",
       "      <td>...</td>\n",
       "      <td>...</td>\n",
       "      <td>...</td>\n",
       "      <td>...</td>\n",
       "      <td>...</td>\n",
       "    </tr>\n",
       "    <tr>\n",
       "      <th>105</th>\n",
       "      <td>10.0</td>\n",
       "      <td>3.0</td>\n",
       "      <td>B</td>\n",
       "      <td>B</td>\n",
       "      <td>False</td>\n",
       "      <td>1970-01-11T22:48:36.965241+00:00</td>\n",
       "      <td>1001.941883</td>\n",
       "      <td>QuizSubmit_10_3</td>\n",
       "    </tr>\n",
       "    <tr>\n",
       "      <th>106</th>\n",
       "      <td>NaN</td>\n",
       "      <td>NaN</td>\n",
       "      <td>NaN</td>\n",
       "      <td>NaN</td>\n",
       "      <td>NaN</td>\n",
       "      <td>1970-01-11T22:48:36.965335+00:00</td>\n",
       "      <td>1001.941977</td>\n",
       "      <td>QuestionStart</td>\n",
       "    </tr>\n",
       "    <tr>\n",
       "      <th>107</th>\n",
       "      <td>10.0</td>\n",
       "      <td>4.0</td>\n",
       "      <td>B</td>\n",
       "      <td>B</td>\n",
       "      <td>False</td>\n",
       "      <td>1970-01-11T22:48:40.661816+00:00</td>\n",
       "      <td>1005.638457</td>\n",
       "      <td>QuizSubmit_10_4</td>\n",
       "    </tr>\n",
       "    <tr>\n",
       "      <th>108</th>\n",
       "      <td>NaN</td>\n",
       "      <td>NaN</td>\n",
       "      <td>NaN</td>\n",
       "      <td>NaN</td>\n",
       "      <td>NaN</td>\n",
       "      <td>1970-01-11T22:48:40.661942+00:00</td>\n",
       "      <td>1005.638584</td>\n",
       "      <td>QuestionStart</td>\n",
       "    </tr>\n",
       "    <tr>\n",
       "      <th>109</th>\n",
       "      <td>10.0</td>\n",
       "      <td>5.0</td>\n",
       "      <td>B</td>\n",
       "      <td>B</td>\n",
       "      <td>False</td>\n",
       "      <td>1970-01-11T22:48:46.916826+00:00</td>\n",
       "      <td>1011.893468</td>\n",
       "      <td>QuizSubmit_10_5</td>\n",
       "    </tr>\n",
       "  </tbody>\n",
       "</table>\n",
       "<p>110 rows × 8 columns</p>\n",
       "</div>"
      ]
     },
     "execution_count": 5,
     "metadata": {},
     "output_type": "execute_result"
    }
   ],
   "execution_count": 5
  },
  {
   "metadata": {
    "ExecuteTime": {
     "end_time": "2025-06-26T12:53:12.754435Z",
     "start_time": "2025-06-26T12:53:12.751554Z"
    }
   },
   "cell_type": "code",
   "source": [
    "# removing rows that are entirely empty after 50 th entry\n",
    "\n",
    "# Keep everything up to row 50 exactly as is\n",
    "first_block  = df.iloc[:51].copy()\n",
    "\n",
    "# Drop rows that are all-NaN in the remainder\n",
    "second_block = df.iloc[51:].dropna(how=\"all\").copy()\n",
    "\n",
    "df_clean = pd.concat([first_block, second_block]).reset_index(drop=True)\n",
    "print(f\"After trimming empty rows: {df_clean.shape}\")"
   ],
   "id": "b4ab82e2394948dd",
   "outputs": [
    {
     "name": "stdout",
     "output_type": "stream",
     "text": [
      "After trimming empty rows: (110, 8)\n"
     ]
    }
   ],
   "execution_count": 6
  },
  {
   "metadata": {
    "ExecuteTime": {
     "end_time": "2025-06-26T12:53:12.820220Z",
     "start_time": "2025-06-26T12:53:12.814803Z"
    }
   },
   "cell_type": "code",
   "source": [
    "# Add a `time_spent_s` column\n",
    "# Time spent in the current label = (start of *next* event) – (start of *this* event)\n",
    "df_clean[\"time_spent_s\"] = df_clean[\"rel_time_s\"].shift(-1) - df_clean[\"rel_time_s\"]\n",
    "\n",
    "# The last row has no “next event”, so its duration is undefined → keep NaN\n",
    "df_clean.head(10)"
   ],
   "id": "ede4e78ac5f0e3bb",
   "outputs": [
    {
     "data": {
      "text/plain": [
       "   Section  Question Correct Answer Frustration  \\\n",
       "0      NaN       NaN     NaN    NaN         NaN   \n",
       "1      NaN       NaN     NaN    NaN         NaN   \n",
       "2      1.0       1.0       C      C       False   \n",
       "3      NaN       NaN     NaN    NaN         NaN   \n",
       "4      1.0       2.0       A      A       False   \n",
       "5      NaN       NaN     NaN    NaN         NaN   \n",
       "6      1.0       3.0       B      B       False   \n",
       "7      NaN       NaN     NaN    NaN         NaN   \n",
       "8      1.0       4.0       B      B       False   \n",
       "9      NaN       NaN     NaN    NaN         NaN   \n",
       "\n",
       "                       abs_time_iso  rel_time_s           Label  time_spent_s  \n",
       "0  1970-01-11T22:31:55.025852+00:00    0.002494    ReadingStart     26.109146  \n",
       "1  1970-01-11T22:32:21.134998+00:00   26.111640   QuestionStart      5.295846  \n",
       "2  1970-01-11T22:32:26.430844+00:00   31.407486  QuizSubmit_1_1      0.000101  \n",
       "3  1970-01-11T22:32:26.430945+00:00   31.407587   QuestionStart      7.278776  \n",
       "4  1970-01-11T22:32:33.709721+00:00   38.686363  QuizSubmit_1_2      0.000065  \n",
       "5  1970-01-11T22:32:33.709786+00:00   38.686428   QuestionStart      4.648427  \n",
       "6  1970-01-11T22:32:38.358214+00:00   43.334855  QuizSubmit_1_3      0.000115  \n",
       "7  1970-01-11T22:32:38.358328+00:00   43.334970   QuestionStart      5.448058  \n",
       "8  1970-01-11T22:32:43.806386+00:00   48.783028  QuizSubmit_1_4      0.000195  \n",
       "9  1970-01-11T22:32:43.806581+00:00   48.783223   QuestionStart      5.222188  "
      ],
      "text/html": [
       "<div>\n",
       "<style scoped>\n",
       "    .dataframe tbody tr th:only-of-type {\n",
       "        vertical-align: middle;\n",
       "    }\n",
       "\n",
       "    .dataframe tbody tr th {\n",
       "        vertical-align: top;\n",
       "    }\n",
       "\n",
       "    .dataframe thead th {\n",
       "        text-align: right;\n",
       "    }\n",
       "</style>\n",
       "<table border=\"1\" class=\"dataframe\">\n",
       "  <thead>\n",
       "    <tr style=\"text-align: right;\">\n",
       "      <th></th>\n",
       "      <th>Section</th>\n",
       "      <th>Question</th>\n",
       "      <th>Correct</th>\n",
       "      <th>Answer</th>\n",
       "      <th>Frustration</th>\n",
       "      <th>abs_time_iso</th>\n",
       "      <th>rel_time_s</th>\n",
       "      <th>Label</th>\n",
       "      <th>time_spent_s</th>\n",
       "    </tr>\n",
       "  </thead>\n",
       "  <tbody>\n",
       "    <tr>\n",
       "      <th>0</th>\n",
       "      <td>NaN</td>\n",
       "      <td>NaN</td>\n",
       "      <td>NaN</td>\n",
       "      <td>NaN</td>\n",
       "      <td>NaN</td>\n",
       "      <td>1970-01-11T22:31:55.025852+00:00</td>\n",
       "      <td>0.002494</td>\n",
       "      <td>ReadingStart</td>\n",
       "      <td>26.109146</td>\n",
       "    </tr>\n",
       "    <tr>\n",
       "      <th>1</th>\n",
       "      <td>NaN</td>\n",
       "      <td>NaN</td>\n",
       "      <td>NaN</td>\n",
       "      <td>NaN</td>\n",
       "      <td>NaN</td>\n",
       "      <td>1970-01-11T22:32:21.134998+00:00</td>\n",
       "      <td>26.111640</td>\n",
       "      <td>QuestionStart</td>\n",
       "      <td>5.295846</td>\n",
       "    </tr>\n",
       "    <tr>\n",
       "      <th>2</th>\n",
       "      <td>1.0</td>\n",
       "      <td>1.0</td>\n",
       "      <td>C</td>\n",
       "      <td>C</td>\n",
       "      <td>False</td>\n",
       "      <td>1970-01-11T22:32:26.430844+00:00</td>\n",
       "      <td>31.407486</td>\n",
       "      <td>QuizSubmit_1_1</td>\n",
       "      <td>0.000101</td>\n",
       "    </tr>\n",
       "    <tr>\n",
       "      <th>3</th>\n",
       "      <td>NaN</td>\n",
       "      <td>NaN</td>\n",
       "      <td>NaN</td>\n",
       "      <td>NaN</td>\n",
       "      <td>NaN</td>\n",
       "      <td>1970-01-11T22:32:26.430945+00:00</td>\n",
       "      <td>31.407587</td>\n",
       "      <td>QuestionStart</td>\n",
       "      <td>7.278776</td>\n",
       "    </tr>\n",
       "    <tr>\n",
       "      <th>4</th>\n",
       "      <td>1.0</td>\n",
       "      <td>2.0</td>\n",
       "      <td>A</td>\n",
       "      <td>A</td>\n",
       "      <td>False</td>\n",
       "      <td>1970-01-11T22:32:33.709721+00:00</td>\n",
       "      <td>38.686363</td>\n",
       "      <td>QuizSubmit_1_2</td>\n",
       "      <td>0.000065</td>\n",
       "    </tr>\n",
       "    <tr>\n",
       "      <th>5</th>\n",
       "      <td>NaN</td>\n",
       "      <td>NaN</td>\n",
       "      <td>NaN</td>\n",
       "      <td>NaN</td>\n",
       "      <td>NaN</td>\n",
       "      <td>1970-01-11T22:32:33.709786+00:00</td>\n",
       "      <td>38.686428</td>\n",
       "      <td>QuestionStart</td>\n",
       "      <td>4.648427</td>\n",
       "    </tr>\n",
       "    <tr>\n",
       "      <th>6</th>\n",
       "      <td>1.0</td>\n",
       "      <td>3.0</td>\n",
       "      <td>B</td>\n",
       "      <td>B</td>\n",
       "      <td>False</td>\n",
       "      <td>1970-01-11T22:32:38.358214+00:00</td>\n",
       "      <td>43.334855</td>\n",
       "      <td>QuizSubmit_1_3</td>\n",
       "      <td>0.000115</td>\n",
       "    </tr>\n",
       "    <tr>\n",
       "      <th>7</th>\n",
       "      <td>NaN</td>\n",
       "      <td>NaN</td>\n",
       "      <td>NaN</td>\n",
       "      <td>NaN</td>\n",
       "      <td>NaN</td>\n",
       "      <td>1970-01-11T22:32:38.358328+00:00</td>\n",
       "      <td>43.334970</td>\n",
       "      <td>QuestionStart</td>\n",
       "      <td>5.448058</td>\n",
       "    </tr>\n",
       "    <tr>\n",
       "      <th>8</th>\n",
       "      <td>1.0</td>\n",
       "      <td>4.0</td>\n",
       "      <td>B</td>\n",
       "      <td>B</td>\n",
       "      <td>False</td>\n",
       "      <td>1970-01-11T22:32:43.806386+00:00</td>\n",
       "      <td>48.783028</td>\n",
       "      <td>QuizSubmit_1_4</td>\n",
       "      <td>0.000195</td>\n",
       "    </tr>\n",
       "    <tr>\n",
       "      <th>9</th>\n",
       "      <td>NaN</td>\n",
       "      <td>NaN</td>\n",
       "      <td>NaN</td>\n",
       "      <td>NaN</td>\n",
       "      <td>NaN</td>\n",
       "      <td>1970-01-11T22:32:43.806581+00:00</td>\n",
       "      <td>48.783223</td>\n",
       "      <td>QuestionStart</td>\n",
       "      <td>5.222188</td>\n",
       "    </tr>\n",
       "  </tbody>\n",
       "</table>\n",
       "</div>"
      ]
     },
     "execution_count": 7,
     "metadata": {},
     "output_type": "execute_result"
    }
   ],
   "execution_count": 7
  },
  {
   "metadata": {
    "ExecuteTime": {
     "end_time": "2025-06-26T12:53:12.868113Z",
     "start_time": "2025-06-26T12:53:12.865972Z"
    }
   },
   "cell_type": "code",
   "source": [
    "# A new 'Section' begins every time we see 'ReadingStart'.\n",
    "# enumerate them 1…N in chronological order.\n",
    "section_ids = (df_clean['Label'].eq('ReadingStart').cumsum()).astype('Int64')\n",
    "df_clean['Section'] = section_ids"
   ],
   "id": "ac0723d58a011116",
   "outputs": [],
   "execution_count": 8
  },
  {
   "metadata": {
    "ExecuteTime": {
     "end_time": "2025-06-26T12:53:12.905615Z",
     "start_time": "2025-06-26T12:53:12.899110Z"
    }
   },
   "cell_type": "code",
   "source": [
    "# Extract <section> and <question> from labels like 'QuizSubmit_3_2'\n",
    "sec_qn = df_clean['Label'].str.extract(r'QuizSubmit_(\\d+)_(\\d+)', expand=True)\n",
    "df_clean['sec_from_submit']  = sec_qn[0].astype('Int64')\n",
    "df_clean['qn_from_submit']   = sec_qn[1].astype('Int64')\n",
    "\n",
    "# For easy access later\n",
    "df_clean['is_question_start'] = df_clean['Label'].eq('QuestionStart')\n",
    "df_clean.head()"
   ],
   "id": "d63b743a5b0b11a0",
   "outputs": [
    {
     "data": {
      "text/plain": [
       "   Section  Question Correct Answer Frustration  \\\n",
       "0        1       NaN     NaN    NaN         NaN   \n",
       "1        1       NaN     NaN    NaN         NaN   \n",
       "2        1       1.0       C      C       False   \n",
       "3        1       NaN     NaN    NaN         NaN   \n",
       "4        1       2.0       A      A       False   \n",
       "\n",
       "                       abs_time_iso  rel_time_s           Label  time_spent_s  \\\n",
       "0  1970-01-11T22:31:55.025852+00:00    0.002494    ReadingStart     26.109146   \n",
       "1  1970-01-11T22:32:21.134998+00:00   26.111640   QuestionStart      5.295846   \n",
       "2  1970-01-11T22:32:26.430844+00:00   31.407486  QuizSubmit_1_1      0.000101   \n",
       "3  1970-01-11T22:32:26.430945+00:00   31.407587   QuestionStart      7.278776   \n",
       "4  1970-01-11T22:32:33.709721+00:00   38.686363  QuizSubmit_1_2      0.000065   \n",
       "\n",
       "   sec_from_submit  qn_from_submit  is_question_start  \n",
       "0             <NA>            <NA>              False  \n",
       "1             <NA>            <NA>               True  \n",
       "2                1               1              False  \n",
       "3             <NA>            <NA>               True  \n",
       "4                1               2              False  "
      ],
      "text/html": [
       "<div>\n",
       "<style scoped>\n",
       "    .dataframe tbody tr th:only-of-type {\n",
       "        vertical-align: middle;\n",
       "    }\n",
       "\n",
       "    .dataframe tbody tr th {\n",
       "        vertical-align: top;\n",
       "    }\n",
       "\n",
       "    .dataframe thead th {\n",
       "        text-align: right;\n",
       "    }\n",
       "</style>\n",
       "<table border=\"1\" class=\"dataframe\">\n",
       "  <thead>\n",
       "    <tr style=\"text-align: right;\">\n",
       "      <th></th>\n",
       "      <th>Section</th>\n",
       "      <th>Question</th>\n",
       "      <th>Correct</th>\n",
       "      <th>Answer</th>\n",
       "      <th>Frustration</th>\n",
       "      <th>abs_time_iso</th>\n",
       "      <th>rel_time_s</th>\n",
       "      <th>Label</th>\n",
       "      <th>time_spent_s</th>\n",
       "      <th>sec_from_submit</th>\n",
       "      <th>qn_from_submit</th>\n",
       "      <th>is_question_start</th>\n",
       "    </tr>\n",
       "  </thead>\n",
       "  <tbody>\n",
       "    <tr>\n",
       "      <th>0</th>\n",
       "      <td>1</td>\n",
       "      <td>NaN</td>\n",
       "      <td>NaN</td>\n",
       "      <td>NaN</td>\n",
       "      <td>NaN</td>\n",
       "      <td>1970-01-11T22:31:55.025852+00:00</td>\n",
       "      <td>0.002494</td>\n",
       "      <td>ReadingStart</td>\n",
       "      <td>26.109146</td>\n",
       "      <td>&lt;NA&gt;</td>\n",
       "      <td>&lt;NA&gt;</td>\n",
       "      <td>False</td>\n",
       "    </tr>\n",
       "    <tr>\n",
       "      <th>1</th>\n",
       "      <td>1</td>\n",
       "      <td>NaN</td>\n",
       "      <td>NaN</td>\n",
       "      <td>NaN</td>\n",
       "      <td>NaN</td>\n",
       "      <td>1970-01-11T22:32:21.134998+00:00</td>\n",
       "      <td>26.111640</td>\n",
       "      <td>QuestionStart</td>\n",
       "      <td>5.295846</td>\n",
       "      <td>&lt;NA&gt;</td>\n",
       "      <td>&lt;NA&gt;</td>\n",
       "      <td>True</td>\n",
       "    </tr>\n",
       "    <tr>\n",
       "      <th>2</th>\n",
       "      <td>1</td>\n",
       "      <td>1.0</td>\n",
       "      <td>C</td>\n",
       "      <td>C</td>\n",
       "      <td>False</td>\n",
       "      <td>1970-01-11T22:32:26.430844+00:00</td>\n",
       "      <td>31.407486</td>\n",
       "      <td>QuizSubmit_1_1</td>\n",
       "      <td>0.000101</td>\n",
       "      <td>1</td>\n",
       "      <td>1</td>\n",
       "      <td>False</td>\n",
       "    </tr>\n",
       "    <tr>\n",
       "      <th>3</th>\n",
       "      <td>1</td>\n",
       "      <td>NaN</td>\n",
       "      <td>NaN</td>\n",
       "      <td>NaN</td>\n",
       "      <td>NaN</td>\n",
       "      <td>1970-01-11T22:32:26.430945+00:00</td>\n",
       "      <td>31.407587</td>\n",
       "      <td>QuestionStart</td>\n",
       "      <td>7.278776</td>\n",
       "      <td>&lt;NA&gt;</td>\n",
       "      <td>&lt;NA&gt;</td>\n",
       "      <td>True</td>\n",
       "    </tr>\n",
       "    <tr>\n",
       "      <th>4</th>\n",
       "      <td>1</td>\n",
       "      <td>2.0</td>\n",
       "      <td>A</td>\n",
       "      <td>A</td>\n",
       "      <td>False</td>\n",
       "      <td>1970-01-11T22:32:33.709721+00:00</td>\n",
       "      <td>38.686363</td>\n",
       "      <td>QuizSubmit_1_2</td>\n",
       "      <td>0.000065</td>\n",
       "      <td>1</td>\n",
       "      <td>2</td>\n",
       "      <td>False</td>\n",
       "    </tr>\n",
       "  </tbody>\n",
       "</table>\n",
       "</div>"
      ]
     },
     "execution_count": 9,
     "metadata": {},
     "output_type": "execute_result"
    }
   ],
   "execution_count": 9
  },
  {
   "metadata": {
    "ExecuteTime": {
     "end_time": "2025-06-26T12:53:12.952752Z",
     "start_time": "2025-06-26T12:53:12.946637Z"
    }
   },
   "cell_type": "code",
   "source": [
    "# walk through each Section once, filling question numbers only\n",
    "# after the first QuestionStart has appeared.\n",
    "\n",
    "df_clean['Question'] = 'N/A'   # default\n",
    "for sec_id, grp in df_clean.groupby('Section', sort=False):\n",
    "    # indices in *time order* for this section\n",
    "    idx = grp.index\n",
    "\n",
    "    # Build a forward 'state machine' for current question no.\n",
    "    current_q = None\n",
    "    q_seen    = False          # becomes True after the first QuestionStart\n",
    "\n",
    "    for i in idx:\n",
    "        label = df_clean.at[i, 'Label']\n",
    "\n",
    "        # If a QuizSubmit appears, parse & update current question\n",
    "        m = re.match(r'QuizSubmit_\\d+_(\\d+)', label)\n",
    "        if m:\n",
    "            current_q = int(m.group(1))\n",
    "\n",
    "        # Flip the 'question started' flag the moment we hit QuestionStart\n",
    "        if df_clean.at[i, 'is_question_start']:\n",
    "            q_seen = True\n",
    "\n",
    "        # Fill only after a question has started *and* we know its number\n",
    "        if q_seen and current_q is not None:\n",
    "            df_clean.at[i, 'Question'] = current_q"
   ],
   "id": "47ffdcaa309f135b",
   "outputs": [],
   "execution_count": 10
  },
  {
   "metadata": {
    "ExecuteTime": {
     "end_time": "2025-06-26T12:53:12.987822Z",
     "start_time": "2025-06-26T12:53:12.985741Z"
    }
   },
   "cell_type": "code",
   "source": [
    "# correct /answer columns\n",
    "for col in ['Correct', 'Answer']:\n",
    "    if col in df_clean.columns:\n",
    "        df_clean[col] = df_clean[col].fillna('N/A')"
   ],
   "id": "13eaa6143d89f86c",
   "outputs": [],
   "execution_count": 11
  },
  {
   "metadata": {
    "ExecuteTime": {
     "end_time": "2025-06-26T12:53:13.012859Z",
     "start_time": "2025-06-26T12:53:13.011060Z"
    }
   },
   "cell_type": "code",
   "source": [
    "# for frustration\n",
    "\n",
    "df_clean['Frustration'] = df_clean['Frustration'].fillna('False')"
   ],
   "id": "94476ace895b7721",
   "outputs": [],
   "execution_count": 12
  },
  {
   "metadata": {
    "ExecuteTime": {
     "end_time": "2025-06-26T12:53:13.030417Z",
     "start_time": "2025-06-26T12:53:13.028447Z"
    }
   },
   "cell_type": "code",
   "source": [
    "# rounding up the time columns\n",
    "for tcol in ['rel_time_s', 'time_spent_s']:\n",
    "    if tcol in df_clean.columns:\n",
    "        df_clean[tcol] = df_clean[tcol].round(2)"
   ],
   "id": "14a6e90277ced139",
   "outputs": [],
   "execution_count": 13
  },
  {
   "metadata": {
    "ExecuteTime": {
     "end_time": "2025-06-26T12:53:13.051264Z",
     "start_time": "2025-06-26T12:53:13.045290Z"
    }
   },
   "cell_type": "code",
   "source": [
    "# cleaning\n",
    "df_clean.drop(columns=['sec_from_submit', 'qn_from_submit', 'is_question_start'],\n",
    "              inplace=True)\n",
    "\n",
    "print(\"✔︎ Section / Question inference complete.\")\n",
    "df_clean.head(12)"
   ],
   "id": "13f8a7bb1faa653b",
   "outputs": [
    {
     "name": "stdout",
     "output_type": "stream",
     "text": [
      "✔︎ Section / Question inference complete.\n"
     ]
    },
    {
     "data": {
      "text/plain": [
       "    Section Question Correct Answer Frustration  \\\n",
       "0         1      N/A     N/A    N/A       False   \n",
       "1         1      N/A     N/A    N/A       False   \n",
       "2         1        1       C      C       False   \n",
       "3         1        1     N/A    N/A       False   \n",
       "4         1        2       A      A       False   \n",
       "5         1        2     N/A    N/A       False   \n",
       "6         1        3       B      B       False   \n",
       "7         1        3     N/A    N/A       False   \n",
       "8         1        4       B      B       False   \n",
       "9         1        4     N/A    N/A       False   \n",
       "10        1        5       B      B       False   \n",
       "11        2      N/A     N/A    N/A       False   \n",
       "\n",
       "                        abs_time_iso  rel_time_s           Label  time_spent_s  \n",
       "0   1970-01-11T22:31:55.025852+00:00        0.00    ReadingStart         26.11  \n",
       "1   1970-01-11T22:32:21.134998+00:00       26.11   QuestionStart          5.30  \n",
       "2   1970-01-11T22:32:26.430844+00:00       31.41  QuizSubmit_1_1          0.00  \n",
       "3   1970-01-11T22:32:26.430945+00:00       31.41   QuestionStart          7.28  \n",
       "4   1970-01-11T22:32:33.709721+00:00       38.69  QuizSubmit_1_2          0.00  \n",
       "5   1970-01-11T22:32:33.709786+00:00       38.69   QuestionStart          4.65  \n",
       "6   1970-01-11T22:32:38.358214+00:00       43.33  QuizSubmit_1_3          0.00  \n",
       "7   1970-01-11T22:32:38.358328+00:00       43.33   QuestionStart          5.45  \n",
       "8   1970-01-11T22:32:43.806386+00:00       48.78  QuizSubmit_1_4          0.00  \n",
       "9   1970-01-11T22:32:43.806581+00:00       48.78   QuestionStart          5.22  \n",
       "10  1970-01-11T22:32:49.028769+00:00       54.01  QuizSubmit_1_5          2.16  \n",
       "11  1970-01-11T22:32:51.192139+00:00       56.17    ReadingStart         23.20  "
      ],
      "text/html": [
       "<div>\n",
       "<style scoped>\n",
       "    .dataframe tbody tr th:only-of-type {\n",
       "        vertical-align: middle;\n",
       "    }\n",
       "\n",
       "    .dataframe tbody tr th {\n",
       "        vertical-align: top;\n",
       "    }\n",
       "\n",
       "    .dataframe thead th {\n",
       "        text-align: right;\n",
       "    }\n",
       "</style>\n",
       "<table border=\"1\" class=\"dataframe\">\n",
       "  <thead>\n",
       "    <tr style=\"text-align: right;\">\n",
       "      <th></th>\n",
       "      <th>Section</th>\n",
       "      <th>Question</th>\n",
       "      <th>Correct</th>\n",
       "      <th>Answer</th>\n",
       "      <th>Frustration</th>\n",
       "      <th>abs_time_iso</th>\n",
       "      <th>rel_time_s</th>\n",
       "      <th>Label</th>\n",
       "      <th>time_spent_s</th>\n",
       "    </tr>\n",
       "  </thead>\n",
       "  <tbody>\n",
       "    <tr>\n",
       "      <th>0</th>\n",
       "      <td>1</td>\n",
       "      <td>N/A</td>\n",
       "      <td>N/A</td>\n",
       "      <td>N/A</td>\n",
       "      <td>False</td>\n",
       "      <td>1970-01-11T22:31:55.025852+00:00</td>\n",
       "      <td>0.00</td>\n",
       "      <td>ReadingStart</td>\n",
       "      <td>26.11</td>\n",
       "    </tr>\n",
       "    <tr>\n",
       "      <th>1</th>\n",
       "      <td>1</td>\n",
       "      <td>N/A</td>\n",
       "      <td>N/A</td>\n",
       "      <td>N/A</td>\n",
       "      <td>False</td>\n",
       "      <td>1970-01-11T22:32:21.134998+00:00</td>\n",
       "      <td>26.11</td>\n",
       "      <td>QuestionStart</td>\n",
       "      <td>5.30</td>\n",
       "    </tr>\n",
       "    <tr>\n",
       "      <th>2</th>\n",
       "      <td>1</td>\n",
       "      <td>1</td>\n",
       "      <td>C</td>\n",
       "      <td>C</td>\n",
       "      <td>False</td>\n",
       "      <td>1970-01-11T22:32:26.430844+00:00</td>\n",
       "      <td>31.41</td>\n",
       "      <td>QuizSubmit_1_1</td>\n",
       "      <td>0.00</td>\n",
       "    </tr>\n",
       "    <tr>\n",
       "      <th>3</th>\n",
       "      <td>1</td>\n",
       "      <td>1</td>\n",
       "      <td>N/A</td>\n",
       "      <td>N/A</td>\n",
       "      <td>False</td>\n",
       "      <td>1970-01-11T22:32:26.430945+00:00</td>\n",
       "      <td>31.41</td>\n",
       "      <td>QuestionStart</td>\n",
       "      <td>7.28</td>\n",
       "    </tr>\n",
       "    <tr>\n",
       "      <th>4</th>\n",
       "      <td>1</td>\n",
       "      <td>2</td>\n",
       "      <td>A</td>\n",
       "      <td>A</td>\n",
       "      <td>False</td>\n",
       "      <td>1970-01-11T22:32:33.709721+00:00</td>\n",
       "      <td>38.69</td>\n",
       "      <td>QuizSubmit_1_2</td>\n",
       "      <td>0.00</td>\n",
       "    </tr>\n",
       "    <tr>\n",
       "      <th>5</th>\n",
       "      <td>1</td>\n",
       "      <td>2</td>\n",
       "      <td>N/A</td>\n",
       "      <td>N/A</td>\n",
       "      <td>False</td>\n",
       "      <td>1970-01-11T22:32:33.709786+00:00</td>\n",
       "      <td>38.69</td>\n",
       "      <td>QuestionStart</td>\n",
       "      <td>4.65</td>\n",
       "    </tr>\n",
       "    <tr>\n",
       "      <th>6</th>\n",
       "      <td>1</td>\n",
       "      <td>3</td>\n",
       "      <td>B</td>\n",
       "      <td>B</td>\n",
       "      <td>False</td>\n",
       "      <td>1970-01-11T22:32:38.358214+00:00</td>\n",
       "      <td>43.33</td>\n",
       "      <td>QuizSubmit_1_3</td>\n",
       "      <td>0.00</td>\n",
       "    </tr>\n",
       "    <tr>\n",
       "      <th>7</th>\n",
       "      <td>1</td>\n",
       "      <td>3</td>\n",
       "      <td>N/A</td>\n",
       "      <td>N/A</td>\n",
       "      <td>False</td>\n",
       "      <td>1970-01-11T22:32:38.358328+00:00</td>\n",
       "      <td>43.33</td>\n",
       "      <td>QuestionStart</td>\n",
       "      <td>5.45</td>\n",
       "    </tr>\n",
       "    <tr>\n",
       "      <th>8</th>\n",
       "      <td>1</td>\n",
       "      <td>4</td>\n",
       "      <td>B</td>\n",
       "      <td>B</td>\n",
       "      <td>False</td>\n",
       "      <td>1970-01-11T22:32:43.806386+00:00</td>\n",
       "      <td>48.78</td>\n",
       "      <td>QuizSubmit_1_4</td>\n",
       "      <td>0.00</td>\n",
       "    </tr>\n",
       "    <tr>\n",
       "      <th>9</th>\n",
       "      <td>1</td>\n",
       "      <td>4</td>\n",
       "      <td>N/A</td>\n",
       "      <td>N/A</td>\n",
       "      <td>False</td>\n",
       "      <td>1970-01-11T22:32:43.806581+00:00</td>\n",
       "      <td>48.78</td>\n",
       "      <td>QuestionStart</td>\n",
       "      <td>5.22</td>\n",
       "    </tr>\n",
       "    <tr>\n",
       "      <th>10</th>\n",
       "      <td>1</td>\n",
       "      <td>5</td>\n",
       "      <td>B</td>\n",
       "      <td>B</td>\n",
       "      <td>False</td>\n",
       "      <td>1970-01-11T22:32:49.028769+00:00</td>\n",
       "      <td>54.01</td>\n",
       "      <td>QuizSubmit_1_5</td>\n",
       "      <td>2.16</td>\n",
       "    </tr>\n",
       "    <tr>\n",
       "      <th>11</th>\n",
       "      <td>2</td>\n",
       "      <td>N/A</td>\n",
       "      <td>N/A</td>\n",
       "      <td>N/A</td>\n",
       "      <td>False</td>\n",
       "      <td>1970-01-11T22:32:51.192139+00:00</td>\n",
       "      <td>56.17</td>\n",
       "      <td>ReadingStart</td>\n",
       "      <td>23.20</td>\n",
       "    </tr>\n",
       "  </tbody>\n",
       "</table>\n",
       "</div>"
      ]
     },
     "execution_count": 14,
     "metadata": {},
     "output_type": "execute_result"
    }
   ],
   "execution_count": 14
  },
  {
   "metadata": {
    "ExecuteTime": {
     "end_time": "2025-06-26T12:53:13.088668Z",
     "start_time": "2025-06-26T12:53:13.084536Z"
    }
   },
   "cell_type": "code",
   "source": [
    "# persisting the optimised csv\n",
    "df_clean.to_csv(OUT_FILE, index=False)\n",
    "print(f\"✅ Optimised file written to: {OUT_FILE.resolve()}\")"
   ],
   "id": "763ce2a583132841",
   "outputs": [
    {
     "name": "stdout",
     "output_type": "stream",
     "text": [
      "✅ Optimised file written to: /Users/rahul/PycharmProjects/Thesis-EEG/Data Processing(Acquired)/experiment_data/Subject_10/optimised-Subject_10-data.csv\n"
     ]
    }
   ],
   "execution_count": 15
  },
  {
   "metadata": {
    "ExecuteTime": {
     "end_time": "2025-06-26T12:53:13.150738Z",
     "start_time": "2025-06-26T12:53:13.147168Z"
    }
   },
   "cell_type": "code",
   "source": [
    "# sanity check\n",
    "\n",
    "print(\"Unique labels ➜\", df_clean[\"Label\"].unique()[:10], \"...\")\n",
    "print(\"\\nEvent duration stats (sec):\")\n",
    "display(df_clean[\"time_spent_s\"].describe())"
   ],
   "id": "2e9e7ed8db60b113",
   "outputs": [
    {
     "name": "stdout",
     "output_type": "stream",
     "text": [
      "Unique labels ➜ ['ReadingStart' 'QuestionStart' 'QuizSubmit_1_1' 'QuizSubmit_1_2'\n",
      " 'QuizSubmit_1_3' 'QuizSubmit_1_4' 'QuizSubmit_1_5' 'QuizSubmit_2_1'\n",
      " 'QuizSubmit_2_2' 'QuizSubmit_2_3'] ...\n",
      "\n",
      "Event duration stats (sec):\n"
     ]
    },
    {
     "data": {
      "text/plain": [
       "count    109.000000\n",
       "mean       9.283394\n",
       "std       16.966473\n",
       "min        0.000000\n",
       "25%        0.000000\n",
       "50%        4.490000\n",
       "75%        9.000000\n",
       "max      101.520000\n",
       "Name: time_spent_s, dtype: float64"
      ]
     },
     "metadata": {},
     "output_type": "display_data"
    }
   ],
   "execution_count": 16
  },
  {
   "metadata": {},
   "cell_type": "markdown",
   "source": "# visualizations and data insights",
   "id": "bad00ffad372e2d"
  },
  {
   "metadata": {
    "ExecuteTime": {
     "end_time": "2025-06-26T12:53:13.179891Z",
     "start_time": "2025-06-26T12:53:13.177143Z"
    }
   },
   "cell_type": "code",
   "source": [
    "opt_file_path = DATA_DIR / f\"optimised-{subject_name}-data.csv\"\n",
    "\n",
    "df = pd.read_csv(opt_file_path)"
   ],
   "id": "7adc3f91a7696b4c",
   "outputs": [],
   "execution_count": 17
  },
  {
   "metadata": {
    "ExecuteTime": {
     "end_time": "2025-06-26T12:53:13.194501Z",
     "start_time": "2025-06-26T12:53:13.192407Z"
    }
   },
   "cell_type": "code",
   "source": [
    "# a unique ID per question (Section-Question, e.g. \"3-2\")\n",
    "df[\"QuestionID\"] = (\n",
    "    df[\"Section\"].astype(\"Int64\").astype(str)\n",
    "    + \"-\" +\n",
    "    df[\"Question\"].astype(str)\n",
    ")"
   ],
   "id": "ac1d06f7cdbd618f",
   "outputs": [],
   "execution_count": 18
  },
  {
   "metadata": {
    "ExecuteTime": {
     "end_time": "2025-06-26T12:53:13.208799Z",
     "start_time": "2025-06-26T12:53:13.207028Z"
    }
   },
   "cell_type": "code",
   "source": [
    "# Making sure I have a usable duration column\n",
    "if \"time_spent_s\" not in df.columns:\n",
    "    df = df.sort_values(\"rel_time_s\").reset_index(drop=True)\n",
    "    df[\"time_spent_s\"] = df[\"rel_time_s\"].shift(-1) - df[\"rel_time_s\"]\n",
    "\n",
    "\n",
    "# Colour palette (adjust to taste)\n",
    "COLORS = {\n",
    "    \"ReadingStart\" : \"#4daf4a\",\n",
    "    \"QuestionStart\": \"#377eb8\",\n",
    "    \"QuizSubmit\"   : \"#e41a1c\",\n",
    "}"
   ],
   "id": "bf9774c33e6097fa",
   "outputs": [],
   "execution_count": 19
  },
  {
   "metadata": {},
   "cell_type": "markdown",
   "source": "### experiment timeline visualization",
   "id": "a7a0abc651fda000"
  },
  {
   "metadata": {
    "ExecuteTime": {
     "end_time": "2025-06-26T12:53:13.335977Z",
     "start_time": "2025-06-26T12:53:13.221846Z"
    }
   },
   "cell_type": "code",
   "source": [
    "fig, ax = plt.subplots(figsize=(14, 6))\n",
    "\n",
    "# Plot every event as a bar on its section-row\n",
    "for _, row in df.sort_values(\"rel_time_s\").iterrows():\n",
    "    sec       = int(row[\"Section\"])\n",
    "    y         = sec - 1                      # zero-based y-coord\n",
    "    start     = row[\"rel_time_s\"]\n",
    "    duration  = row[\"time_spent_s\"]\n",
    "    if pd.isna(duration) or duration <= 0:\n",
    "        continue\n",
    "\n",
    "    label = (\n",
    "        \"QuizSubmit\" if str(row[\"Label\"]).startswith(\"QuizSubmit\")\n",
    "        else row[\"Label\"]\n",
    "    )\n",
    "    ax.barh(\n",
    "        y=y,\n",
    "        width=duration,\n",
    "        left=start,\n",
    "        height=0.6,\n",
    "        color=COLORS.get(label, \"#999999\"),\n",
    "    )\n",
    "\n",
    "# Formatting\n",
    "ax.set_yticks(range(len(df[\"Section\"].dropna().unique())))\n",
    "ax.set_yticklabels([f\"Sec {n}\" for n in df[\"Section\"].dropna().unique()])\n",
    "ax.set_xlabel(\"Time [s]\")\n",
    "ax.set_title(\"Experiment timeline (per section)\")\n",
    "\n",
    "legend_handles = [\n",
    "    mpatches.Patch(color=COLORS[\"ReadingStart\"],  label=\"Reading\"),\n",
    "    mpatches.Patch(color=COLORS[\"QuestionStart\"], label=\"Answering\"),\n",
    "    mpatches.Patch(color=COLORS[\"QuizSubmit\"],    label=\"Submit\"),\n",
    "]\n",
    "ax.legend(handles=legend_handles, loc=\"upper center\",\n",
    "          bbox_to_anchor=(0.5, 1.12), ncol=3, frameon=False)\n",
    "plt.tight_layout()\n",
    "plt.show()"
   ],
   "id": "a18255aab6a01c3e",
   "outputs": [
    {
     "data": {
      "text/plain": [
       "<Figure size 1400x600 with 1 Axes>"
      ],
      "image/png": "[encoded data removed]"
     },
     "metadata": {},
     "output_type": "display_data"
    }
   ],
   "execution_count": 20
  },
  {
   "metadata": {},
   "cell_type": "markdown",
   "source": "### Per-section time budget (reading vs. answering)",
   "id": "c6325fb08868be17"
  },
  {
   "metadata": {
    "ExecuteTime": {
     "end_time": "2025-06-26T12:53:13.414340Z",
     "start_time": "2025-06-26T12:53:13.354480Z"
    }
   },
   "cell_type": "code",
   "source": [
    "reading  = df[df[\"Label\"] == \"ReadingStart\"].groupby(\"Section\")[\"time_spent_s\"].sum()\n",
    "answer   = df[df[\"Label\"] == \"QuestionStart\"].groupby(\"Section\")[\"time_spent_s\"].sum()\n",
    "\n",
    "sections = reading.index.astype(int)\n",
    "\n",
    "fig, ax = plt.subplots(figsize=(10, 4))\n",
    "ax.bar(sections, reading, label=\"Reading\")\n",
    "ax.bar(sections, answer,  bottom=reading, label=\"Answering\")\n",
    "\n",
    "ax.set_xlabel(\"Section\")\n",
    "ax.set_ylabel(\"Time spent [s]\")\n",
    "ax.set_title(\"Section-wise time allocation\")\n",
    "ax.legend()\n",
    "plt.show()"
   ],
   "id": "1689cb6b16289b5a",
   "outputs": [
    {
     "data": {
      "text/plain": [
       "<Figure size 1000x400 with 1 Axes>"
      ],
      "image/png": "[encoded data removed]"
     },
     "metadata": {},
     "output_type": "display_data"
    }
   ],
   "execution_count": 21
  },
  {
   "metadata": {},
   "cell_type": "markdown",
   "source": "### distribution of durations by task type",
   "id": "209ef2e3f7a4fb3f"
  },
  {
   "metadata": {
    "ExecuteTime": {
     "end_time": "2025-06-26T12:53:13.466675Z",
     "start_time": "2025-06-26T12:53:13.429811Z"
    }
   },
   "cell_type": "code",
   "source": [
    "fig, ax = plt.subplots(figsize=(5, 4))\n",
    "\n",
    "box_data = [\n",
    "    df[df[\"Label\"] == \"ReadingStart\"][\"time_spent_s\"].dropna(),\n",
    "    df[df[\"Label\"] == \"QuestionStart\"][\"time_spent_s\"].dropna()\n",
    "]\n",
    "\n",
    "ax.boxplot(box_data, tick_labels=[\"Reading\", \"Answering\"], showfliers=False)\n",
    "ax.set_ylabel(\"Time spent [s]\")\n",
    "ax.set_title(\"Across-session duration spread\")\n",
    "plt.show()"
   ],
   "id": "60c80158aded05af",
   "outputs": [
    {
     "data": {
      "text/plain": [
       "<Figure size 500x400 with 1 Axes>"
      ],
      "image/png": "[encoded data removed]"
     },
     "metadata": {},
     "output_type": "display_data"
    }
   ],
   "execution_count": 22
  },
  {
   "metadata": {},
   "cell_type": "markdown",
   "source": "### Answering-time vs. correctness (proxy for frustration)",
   "id": "50733a5da7f09fb0"
  },
  {
   "metadata": {
    "ExecuteTime": {
     "end_time": "2025-06-26T12:53:13.615768Z",
     "start_time": "2025-06-26T12:53:13.484887Z"
    }
   },
   "cell_type": "code",
   "source": [
    "# ── 1. Load & prep\n",
    "df = pd.read_csv(OUT_FILE).sort_values(\"rel_time_s\").reset_index(drop=True)\n",
    "\n",
    "# handy numeric versions\n",
    "df[\"Section_num\"]  = pd.to_numeric(df[\"Section\"],  errors=\"coerce\")\n",
    "df[\"Question_num\"] = pd.to_numeric(df[\"Question\"], errors=\"coerce\")\n",
    "\n",
    "# ── 2. Build one record per QuizSubmit row ────────────────────────────────\n",
    "records = []\n",
    "for _, submit in df[df[\"Label\"].str.startswith(\"QuizSubmit\")].iterrows():\n",
    "\n",
    "    # extract section & question from the label text\n",
    "    m = re.match(r\"QuizSubmit_(\\d+)_(\\d+)\", submit[\"Label\"])\n",
    "    if not m:\n",
    "        continue                               # shouldn’t happen, but be safe\n",
    "    sec, qn = map(int, m.groups())\n",
    "    t_submit = submit[\"rel_time_s\"]\n",
    "\n",
    "    # last QuestionStart in *this* section that happened *before* the submit\n",
    "    mask_q = (\n",
    "        (df[\"Label\"] == \"QuestionStart\") &\n",
    "        (df[\"Section_num\"] == sec)       &\n",
    "        (df[\"rel_time_s\"]  <  t_submit)\n",
    "    )\n",
    "    if not mask_q.any():\n",
    "        continue                           # skip if start not found (rare)\n",
    "\n",
    "    qstart = df.loc[mask_q].iloc[-1]       # the closest one going backwards\n",
    "    duration = t_submit - qstart[\"rel_time_s\"]\n",
    "\n",
    "    # correctness = did the participant’s answer match the key?\n",
    "    is_correct = str(submit[\"Answer\"]) == str(submit[\"Correct\"])\n",
    "\n",
    "    records.append({\n",
    "        \"QuestionID\": f\"{sec}-{qn}\",\n",
    "        \"duration_s\": round(duration, 2),\n",
    "        \"is_correct\": is_correct,\n",
    "    })\n",
    "\n",
    "qd = pd.DataFrame(records)\n",
    "\n",
    "if qd.empty:\n",
    "    raise RuntimeError(\"No question/submit pairs found — check log format!\")\n",
    "\n",
    "# ── 3. Scatter plot ───────────────────────────────────────────────────────\n",
    "fig, ax = plt.subplots(figsize=(12, 4))\n",
    "\n",
    "ax.scatter(\n",
    "    qd[qd[\"is_correct\"]][\"QuestionID\"],\n",
    "    qd[qd[\"is_correct\"]][\"duration_s\"],\n",
    "    label=\"Correct\", marker=\"o\"\n",
    ")\n",
    "ax.scatter(\n",
    "    qd[~qd[\"is_correct\"]][\"QuestionID\"],\n",
    "    qd[~qd[\"is_correct\"]][\"duration_s\"],\n",
    "    label=\"Incorrect\", marker=\"x\"\n",
    ")\n",
    "\n",
    "ax.set_xlabel(\"Question ID  (Section-Question)\")\n",
    "ax.set_ylabel(\"Answer time [s]\")\n",
    "ax.set_title(\"Answer duration vs. correctness\")\n",
    "ax.legend()\n",
    "plt.xticks(rotation=45, ha=\"right\")\n",
    "plt.tight_layout()\n",
    "plt.show()"
   ],
   "id": "c925b3697a143e53",
   "outputs": [
    {
     "data": {
      "text/plain": [
       "<Figure size 1200x400 with 1 Axes>"
      ],
      "image/png": "[encoded data removed]"
     },
     "metadata": {},
     "output_type": "display_data"
    }
   ],
   "execution_count": 23
  },
  {
   "metadata": {
    "ExecuteTime": {
     "end_time": "2025-06-26T12:53:13.632841Z",
     "start_time": "2025-06-26T12:53:13.631707Z"
    }
   },
   "cell_type": "code",
   "source": "",
   "id": "fdf830ded2d13b8",
   "outputs": [],
   "execution_count": null
  }
 ],
 "metadata": {
  "kernelspec": {
   "display_name": "Python 3",
   "language": "python",
   "name": "python3"
  },
  "language_info": {
   "codemirror_mode": {
    "name": "ipython",
    "version": 2
   },
   "file_extension": ".py",
   "mimetype": "text/x-python",
   "name": "python",
   "nbconvert_exporter": "python",
   "pygments_lexer": "ipython2",
   "version": "2.7.6"
  }
 },
 "nbformat": 4,
 "nbformat_minor": 5
}
